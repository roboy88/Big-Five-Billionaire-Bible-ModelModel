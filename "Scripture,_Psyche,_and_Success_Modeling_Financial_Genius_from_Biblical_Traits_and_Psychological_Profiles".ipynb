{
  "nbformat": 4,
  "nbformat_minor": 0,
  "metadata": {
    "colab": {
      "provenance": [],
      "authorship_tag": "ABX9TyNVp18HMGt7NfyIsQq44QW4",
      "include_colab_link": true
    },
    "kernelspec": {
      "name": "python3",
      "display_name": "Python 3"
    },
    "language_info": {
      "name": "python"
    }
  },
  "cells": [
    {
      "cell_type": "markdown",
      "metadata": {
        "id": "view-in-github",
        "colab_type": "text"
      },
      "source": [
        "<a href=\"https://colab.research.google.com/github/roboy88/Big-Five-Billionaire-Bible-ModelModel/blob/main/%22Scripture%2C_Psyche%2C_and_Success_Modeling_Financial_Genius_from_Biblical_Traits_and_Psychological_Profiles%22.ipynb\" target=\"_parent\"><img src=\"https://colab.research.google.com/assets/colab-badge.svg\" alt=\"Open In Colab\"/></a>"
      ]
    },
    {
      "cell_type": "code",
      "source": [
        "# ✅ Project: Unified Modeling of Biblical Traits, Psychological Profiles, and Financial Success\n",
        "\n",
        "\"\"\"\n",
        "README: Financial Genius Detection from Biblical Philosophy & Psychometrics\n",
        "\n",
        "This Colab-ready Python notebook integrates:\n",
        "- Big Five psychological traits & cognitive aptitudes\n",
        "- Jordan Peterson's Biblical lecture series\n",
        "- Real-world billionaire & CEO financial data\n",
        "\n",
        "🔍 Goals:\n",
        "- Model the \"Ideal Financial Genius\" using SMOTE and Random Forest\n",
        "- Score lectures on personality trait emphasis\n",
        "- Visualize the most predictive features for success\n",
        "\n",
        "📦 Required Files (Upload via Colab prompt):\n",
        "- Data_final.csv\n",
        "- SCFP2019 2.csv\n",
        "- CEO_compensation_top50_2020.csv\n",
        "- CEO_largestrevenue_highestpaid_2020-21.csv\n",
        "- TOP 50 BILLIONAIRES LIST 2.csv\n",
        "- 500 richest people 2021.csv\n",
        "- Biblical_lectures_pt1.txt to Biblical_lectures_pt15.txt\n",
        "\n",
        "📈 Outputs:\n",
        "- financial_genius_feature_importance.csv\n",
        "- lecture_trait_scores.csv\n",
        "- scored_personality_profiles.csv\n",
        "\"\"\"\n",
        "\n",
        "# 📦 Step 1: Setup and Install Packages\n",
        "!pip install -q imblearn\n",
        "\n",
        "\n"
      ],
      "metadata": {
        "id": "O1qJxaEPicGw"
      },
      "execution_count": 30,
      "outputs": []
    },
    {
      "cell_type": "code",
      "source": [
        "# 📁 Step 2: Import Libraries\n",
        "from google.colab import files\n",
        "import pandas as pd\n",
        "import os\n",
        "import re\n",
        "import matplotlib.pyplot as plt\n",
        "from collections import Counter\n",
        "from sklearn.preprocessing import StandardScaler\n",
        "from sklearn.model_selection import train_test_split\n",
        "from sklearn.ensemble import RandomForestClassifier\n",
        "from sklearn.metrics import classification_report\n",
        "from imblearn.over_sampling import SMOTE\n",
        "\n",
        "%matplotlib inline\n",
        "\n"
      ],
      "metadata": {
        "id": "X-lvd22jix5Y"
      },
      "execution_count": 31,
      "outputs": []
    },
    {
      "cell_type": "code",
      "source": [
        "# 📂 Step 3: Upload Files\n",
        "uploaded = files.upload()\n",
        "print(\"Uploaded files:\", list(uploaded.keys()))\n",
        "\n"
      ],
      "metadata": {
        "colab": {
          "base_uri": "https://localhost:8080/",
          "height": 816
        },
        "id": "fe1AdLyfi43E",
        "outputId": "32f4cb7a-52cc-4515-9bc5-c01e319e08f9"
      },
      "execution_count": 32,
      "outputs": [
        {
          "output_type": "display_data",
          "data": {
            "text/plain": [
              "<IPython.core.display.HTML object>"
            ],
            "text/html": [
              "\n",
              "     <input type=\"file\" id=\"files-c3ac6233-697a-49de-8fe3-5f45c7bf6db8\" name=\"files[]\" multiple disabled\n",
              "        style=\"border:none\" />\n",
              "     <output id=\"result-c3ac6233-697a-49de-8fe3-5f45c7bf6db8\">\n",
              "      Upload widget is only available when the cell has been executed in the\n",
              "      current browser session. Please rerun this cell to enable.\n",
              "      </output>\n",
              "      <script>// Copyright 2017 Google LLC\n",
              "//\n",
              "// Licensed under the Apache License, Version 2.0 (the \"License\");\n",
              "// you may not use this file except in compliance with the License.\n",
              "// You may obtain a copy of the License at\n",
              "//\n",
              "//      http://www.apache.org/licenses/LICENSE-2.0\n",
              "//\n",
              "// Unless required by applicable law or agreed to in writing, software\n",
              "// distributed under the License is distributed on an \"AS IS\" BASIS,\n",
              "// WITHOUT WARRANTIES OR CONDITIONS OF ANY KIND, either express or implied.\n",
              "// See the License for the specific language governing permissions and\n",
              "// limitations under the License.\n",
              "\n",
              "/**\n",
              " * @fileoverview Helpers for google.colab Python module.\n",
              " */\n",
              "(function(scope) {\n",
              "function span(text, styleAttributes = {}) {\n",
              "  const element = document.createElement('span');\n",
              "  element.textContent = text;\n",
              "  for (const key of Object.keys(styleAttributes)) {\n",
              "    element.style[key] = styleAttributes[key];\n",
              "  }\n",
              "  return element;\n",
              "}\n",
              "\n",
              "// Max number of bytes which will be uploaded at a time.\n",
              "const MAX_PAYLOAD_SIZE = 100 * 1024;\n",
              "\n",
              "function _uploadFiles(inputId, outputId) {\n",
              "  const steps = uploadFilesStep(inputId, outputId);\n",
              "  const outputElement = document.getElementById(outputId);\n",
              "  // Cache steps on the outputElement to make it available for the next call\n",
              "  // to uploadFilesContinue from Python.\n",
              "  outputElement.steps = steps;\n",
              "\n",
              "  return _uploadFilesContinue(outputId);\n",
              "}\n",
              "\n",
              "// This is roughly an async generator (not supported in the browser yet),\n",
              "// where there are multiple asynchronous steps and the Python side is going\n",
              "// to poll for completion of each step.\n",
              "// This uses a Promise to block the python side on completion of each step,\n",
              "// then passes the result of the previous step as the input to the next step.\n",
              "function _uploadFilesContinue(outputId) {\n",
              "  const outputElement = document.getElementById(outputId);\n",
              "  const steps = outputElement.steps;\n",
              "\n",
              "  const next = steps.next(outputElement.lastPromiseValue);\n",
              "  return Promise.resolve(next.value.promise).then((value) => {\n",
              "    // Cache the last promise value to make it available to the next\n",
              "    // step of the generator.\n",
              "    outputElement.lastPromiseValue = value;\n",
              "    return next.value.response;\n",
              "  });\n",
              "}\n",
              "\n",
              "/**\n",
              " * Generator function which is called between each async step of the upload\n",
              " * process.\n",
              " * @param {string} inputId Element ID of the input file picker element.\n",
              " * @param {string} outputId Element ID of the output display.\n",
              " * @return {!Iterable<!Object>} Iterable of next steps.\n",
              " */\n",
              "function* uploadFilesStep(inputId, outputId) {\n",
              "  const inputElement = document.getElementById(inputId);\n",
              "  inputElement.disabled = false;\n",
              "\n",
              "  const outputElement = document.getElementById(outputId);\n",
              "  outputElement.innerHTML = '';\n",
              "\n",
              "  const pickedPromise = new Promise((resolve) => {\n",
              "    inputElement.addEventListener('change', (e) => {\n",
              "      resolve(e.target.files);\n",
              "    });\n",
              "  });\n",
              "\n",
              "  const cancel = document.createElement('button');\n",
              "  inputElement.parentElement.appendChild(cancel);\n",
              "  cancel.textContent = 'Cancel upload';\n",
              "  const cancelPromise = new Promise((resolve) => {\n",
              "    cancel.onclick = () => {\n",
              "      resolve(null);\n",
              "    };\n",
              "  });\n",
              "\n",
              "  // Wait for the user to pick the files.\n",
              "  const files = yield {\n",
              "    promise: Promise.race([pickedPromise, cancelPromise]),\n",
              "    response: {\n",
              "      action: 'starting',\n",
              "    }\n",
              "  };\n",
              "\n",
              "  cancel.remove();\n",
              "\n",
              "  // Disable the input element since further picks are not allowed.\n",
              "  inputElement.disabled = true;\n",
              "\n",
              "  if (!files) {\n",
              "    return {\n",
              "      response: {\n",
              "        action: 'complete',\n",
              "      }\n",
              "    };\n",
              "  }\n",
              "\n",
              "  for (const file of files) {\n",
              "    const li = document.createElement('li');\n",
              "    li.append(span(file.name, {fontWeight: 'bold'}));\n",
              "    li.append(span(\n",
              "        `(${file.type || 'n/a'}) - ${file.size} bytes, ` +\n",
              "        `last modified: ${\n",
              "            file.lastModifiedDate ? file.lastModifiedDate.toLocaleDateString() :\n",
              "                                    'n/a'} - `));\n",
              "    const percent = span('0% done');\n",
              "    li.appendChild(percent);\n",
              "\n",
              "    outputElement.appendChild(li);\n",
              "\n",
              "    const fileDataPromise = new Promise((resolve) => {\n",
              "      const reader = new FileReader();\n",
              "      reader.onload = (e) => {\n",
              "        resolve(e.target.result);\n",
              "      };\n",
              "      reader.readAsArrayBuffer(file);\n",
              "    });\n",
              "    // Wait for the data to be ready.\n",
              "    let fileData = yield {\n",
              "      promise: fileDataPromise,\n",
              "      response: {\n",
              "        action: 'continue',\n",
              "      }\n",
              "    };\n",
              "\n",
              "    // Use a chunked sending to avoid message size limits. See b/62115660.\n",
              "    let position = 0;\n",
              "    do {\n",
              "      const length = Math.min(fileData.byteLength - position, MAX_PAYLOAD_SIZE);\n",
              "      const chunk = new Uint8Array(fileData, position, length);\n",
              "      position += length;\n",
              "\n",
              "      const base64 = btoa(String.fromCharCode.apply(null, chunk));\n",
              "      yield {\n",
              "        response: {\n",
              "          action: 'append',\n",
              "          file: file.name,\n",
              "          data: base64,\n",
              "        },\n",
              "      };\n",
              "\n",
              "      let percentDone = fileData.byteLength === 0 ?\n",
              "          100 :\n",
              "          Math.round((position / fileData.byteLength) * 100);\n",
              "      percent.textContent = `${percentDone}% done`;\n",
              "\n",
              "    } while (position < fileData.byteLength);\n",
              "  }\n",
              "\n",
              "  // All done.\n",
              "  yield {\n",
              "    response: {\n",
              "      action: 'complete',\n",
              "    }\n",
              "  };\n",
              "}\n",
              "\n",
              "scope.google = scope.google || {};\n",
              "scope.google.colab = scope.google.colab || {};\n",
              "scope.google.colab._files = {\n",
              "  _uploadFiles,\n",
              "  _uploadFilesContinue,\n",
              "};\n",
              "})(self);\n",
              "</script> "
            ]
          },
          "metadata": {}
        },
        {
          "output_type": "stream",
          "name": "stdout",
          "text": [
            "Saving 500 richest people 2021.csv to 500 richest people 2021 (4).csv\n",
            "Saving SCFP2019 2.csv to SCFP2019 2 (6).csv\n",
            "Saving Data_final.csv to Data_final (5).csv\n",
            "Saving CEO_largestrevenue_highestpaid_2020-21.csv to CEO_largestrevenue_highestpaid_2020-21 (4).csv\n",
            "Saving Biblical_lectures_pt2.txt to Biblical_lectures_pt2 (4).txt\n",
            "Saving Biblical_lectures_pt3.txt to Biblical_lectures_pt3 (4).txt\n",
            "Saving Biblical_lectures_pt8.txt to Biblical_lectures_pt8 (4).txt\n",
            "Saving Biblical_lectures_pt9.txt to Biblical_lectures_pt9 (4).txt\n",
            "Saving Biblical_lectures_pt15.txt to Biblical_lectures_pt15 (4).txt\n",
            "Saving TOP 50 BILLIONAIRES LIST 2.csv to TOP 50 BILLIONAIRES LIST 2 (4).csv\n",
            "Saving CEO_compensation_top50_2020.csv to CEO_compensation_top50_2020 (4).csv\n",
            "Saving Biblical_lectures_pt14.txt to Biblical_lectures_pt14 (4).txt\n",
            "Saving Biblical_lectures_pt4.txt to Biblical_lectures_pt4 (4).txt\n",
            "Saving Biblical_lectures_pt10.txt to Biblical_lectures_pt10 (4).txt\n",
            "Saving Biblical_lectures_pt12.txt to Biblical_lectures_pt12 (4).txt\n",
            "Saving Biblical_lectures_pt6.txt to Biblical_lectures_pt6 (4).txt\n",
            "Saving Biblical_lectures_pt11.txt to Biblical_lectures_pt11 (4).txt\n",
            "Saving Biblical_lectures_pt5.txt to Biblical_lectures_pt5 (4).txt\n",
            "Saving Biblical_lectures_pt1.txt to Biblical_lectures_pt1 (4).txt\n",
            "Saving Biblical_lectures_pt7.txt to Biblical_lectures_pt7 (4).txt\n",
            "Saving Biblical_lectures_pt13.txt to Biblical_lectures_pt13 (4).txt\n",
            "Uploaded files: ['500 richest people 2021 (4).csv', 'SCFP2019 2 (6).csv', 'Data_final (5).csv', 'CEO_largestrevenue_highestpaid_2020-21 (4).csv', 'Biblical_lectures_pt2 (4).txt', 'Biblical_lectures_pt3 (4).txt', 'Biblical_lectures_pt8 (4).txt', 'Biblical_lectures_pt9 (4).txt', 'Biblical_lectures_pt15 (4).txt', 'TOP 50 BILLIONAIRES LIST 2 (4).csv', 'CEO_compensation_top50_2020 (4).csv', 'Biblical_lectures_pt14 (4).txt', 'Biblical_lectures_pt4 (4).txt', 'Biblical_lectures_pt10 (4).txt', 'Biblical_lectures_pt12 (4).txt', 'Biblical_lectures_pt6 (4).txt', 'Biblical_lectures_pt11 (4).txt', 'Biblical_lectures_pt5 (4).txt', 'Biblical_lectures_pt1 (4).txt', 'Biblical_lectures_pt7 (4).txt', 'Biblical_lectures_pt13 (4).txt']\n"
          ]
        }
      ]
    },
    {
      "cell_type": "code",
      "source": [
        "# 📊 Step 4: Load and Validate Required Datasets\n",
        "try:\n",
        "    psych_df = pd.read_csv(\"Data_final.csv\")\n",
        "    scf_df = pd.read_csv(\"SCFP2019 2.csv\")\n",
        "    ceo_df1 = pd.read_csv(\"CEO_compensation_top50_2020.csv\")\n",
        "    ceo_df2 = pd.read_csv(\"CEO_largestrevenue_highestpaid_2020-21.csv\")\n",
        "    billionaires_df = pd.read_csv(\"TOP 50 BILLIONAIRES LIST 2.csv\")\n",
        "    r500_df = pd.read_csv(\"500 richest people 2021.csv\")\n",
        "except Exception as e:\n",
        "    print(\"Error loading data:\", e)\n",
        "    raise\n",
        "\n"
      ],
      "metadata": {
        "id": "O2QmSc_9jmCJ"
      },
      "execution_count": 33,
      "outputs": []
    },
    {
      "cell_type": "code",
      "source": [
        "# 📖 Step 5: Load and Process Biblical Lecture Texts\n",
        "lecture_files = [f\"Biblical_lectures_pt{i}.txt\" for i in range(1, 16)]\n",
        "lectures = []\n",
        "missing = []\n",
        "\n",
        "for file in lecture_files:\n",
        "    try:\n",
        "        with open(file, 'r') as f:\n",
        "            lectures.append(f.read())\n",
        "    except FileNotFoundError:\n",
        "        print(f\"❌ Missing: {file}\")\n",
        "        missing.append(file)\n",
        "\n",
        "if missing:\n",
        "    raise FileNotFoundError(f\"Missing lecture files: {missing}\")\n",
        "\n",
        "lecture_df = pd.DataFrame({'lecture_name': lecture_files, 'text': lectures})\n",
        "\n"
      ],
      "metadata": {
        "id": "uQP0_lvZjuAO"
      },
      "execution_count": 34,
      "outputs": []
    },
    {
      "cell_type": "code",
      "source": [
        "# 🧹 Step 6: Clean Text and Score Traits\n",
        "\n",
        "def clean_text(text):\n",
        "    return re.sub(r'[^a-zA-Z\\s]', '', text).lower()\n",
        "\n",
        "lecture_df['cleaned_text'] = lecture_df['text'].apply(clean_text)\n",
        "\n",
        "trait_keywords = {\n",
        "    'Openness': [\"imagine\", \"explore\", \"create\", \"transform\"],\n",
        "    'Conscientiousness': [\"discipline\", \"structure\", \"responsibility\", \"order\"],\n",
        "    'Extraversion': [\"speak\", \"lead\", \"engage\", \"connect\"],\n",
        "    'Agreeableness': [\"help\", \"care\", \"serve\", \"share\"],\n",
        "    'Neuroticism': [\"fear\", \"chaos\", \"pain\", \"doubt\"]\n",
        "}\n",
        "\n",
        "def score_traits(text):\n",
        "    return {trait: sum(text.count(word) for word in words) for trait, words in trait_keywords.items()}\n",
        "\n",
        "trait_scores_df = pd.DataFrame([score_traits(t) for t in lecture_df['cleaned_text']])\n",
        "trait_scores_df['lecture'] = lecture_df['lecture_name']\n",
        "\n"
      ],
      "metadata": {
        "id": "VLHDSGsLj2ls"
      },
      "execution_count": 35,
      "outputs": []
    },
    {
      "cell_type": "code",
      "source": [
        "# 🧠 Step 7: Define Ideal Financial Genius Profile\n",
        "psych_df['Ideal_Genius'] = psych_df.apply(lambda r: int(\n",
        "    r['C_score'] > 7 and r['O_score'] > 6 and\n",
        "    r['Numerical Aptitude'] > 7 and r['Verbal Reasoning'] > 7 and\n",
        "    r['N_score'] < 5), axis=1)\n",
        "\n"
      ],
      "metadata": {
        "id": "WYR6rktdj7kp"
      },
      "execution_count": 36,
      "outputs": []
    },
    {
      "cell_type": "code",
      "source": [
        "# 🤖 Step 8: Prepare Features and Target\n",
        "features = ['O_score', 'C_score', 'E_score', 'A_score', 'N_score',\n",
        "            'Numerical Aptitude', 'Spatial Aptitude', 'Perceptual Aptitude',\n",
        "            'Abstract Reasoning', 'Verbal Reasoning']\n",
        "X = psych_df[features]\n",
        "y = psych_df['Ideal_Genius']\n",
        "X_scaled = StandardScaler().fit_transform(X)\n",
        "\n"
      ],
      "metadata": {
        "id": "zFOl-J25kEQ0"
      },
      "execution_count": 37,
      "outputs": []
    },
    {
      "cell_type": "code",
      "source": [
        "# 🧪 Step 9: Balance Data and Train Model\n",
        "minority_class_count = y.value_counts().min()\n",
        "k_neighbors = min(5, minority_class_count - 1) if minority_class_count > 1 else 1\n",
        "\n",
        "X_res, y_res = SMOTE(k_neighbors=k_neighbors).fit_resample(X_scaled, y)\n",
        "X_train, X_test, y_train, y_test = train_test_split(X_res, y_res, test_size=0.25, random_state=42)\n",
        "\n",
        "model = RandomForestClassifier(random_state=42)\n",
        "model.fit(X_train, y_train)\n",
        "y_pred = model.predict(X_test)\n",
        "\n",
        "print(\"\\n📋 Classification Report:\")\n",
        "print(classification_report(y_test, y_pred))\n",
        "\n"
      ],
      "metadata": {
        "colab": {
          "base_uri": "https://localhost:8080/"
        },
        "id": "hqIGjjD_kHZa",
        "outputId": "fe20a725-9582-4d0f-f50c-bd0c5bfd8d72"
      },
      "execution_count": 38,
      "outputs": [
        {
          "output_type": "stream",
          "name": "stdout",
          "text": [
            "\n",
            "📋 Classification Report:\n",
            "              precision    recall  f1-score   support\n",
            "\n",
            "           0       1.00      0.96      0.98        27\n",
            "           1       0.96      1.00      0.98        23\n",
            "\n",
            "    accuracy                           0.98        50\n",
            "   macro avg       0.98      0.98      0.98        50\n",
            "weighted avg       0.98      0.98      0.98        50\n",
            "\n"
          ]
        }
      ]
    },
    {
      "cell_type": "code",
      "source": [
        "# 📊 Step 10: Visualize Feature Importance\n",
        "feat_df = pd.DataFrame({\"Feature\": features, \"Importance\": model.feature_importances_})\n",
        "feat_df = feat_df.sort_values(by=\"Importance\", ascending=False)\n",
        "\n",
        "plt.figure(figsize=(10, 6))\n",
        "plt.barh(feat_df['Feature'], feat_df['Importance'])\n",
        "plt.gca().invert_yaxis()\n",
        "plt.title(\"🔍 Most Predictive Traits for Financial Genius\")\n",
        "plt.xlabel(\"Importance\")\n",
        "plt.tight_layout()\n",
        "plt.show()\n",
        "\n"
      ],
      "metadata": {
        "colab": {
          "base_uri": "https://localhost:8080/",
          "height": 698
        },
        "id": "W0Mym9E_kM_n",
        "outputId": "43d75b21-8787-432e-d585-009987383b1b"
      },
      "execution_count": 39,
      "outputs": [
        {
          "output_type": "stream",
          "name": "stderr",
          "text": [
            "<ipython-input-39-61601e7c7369>:10: UserWarning: Glyph 128269 (\\N{LEFT-POINTING MAGNIFYING GLASS}) missing from font(s) DejaVu Sans.\n",
            "  plt.tight_layout()\n",
            "/usr/local/lib/python3.11/dist-packages/IPython/core/pylabtools.py:151: UserWarning: Glyph 128269 (\\N{LEFT-POINTING MAGNIFYING GLASS}) missing from font(s) DejaVu Sans.\n",
            "  fig.canvas.print_figure(bytes_io, **kw)\n"
          ]
        },
        {
          "output_type": "display_data",
          "data": {
            "text/plain": [
              "<Figure size 1000x600 with 1 Axes>"
            ],
            "image/png": "[encoded data removed]"
          },
          "metadata": {}
        }
      ]
    },
    {
      "cell_type": "code",
      "source": [
        "# 💾 Step 11: Export Results\n",
        "feat_df.to_csv(\"financial_genius_feature_importance.csv\", index=False)\n",
        "trait_scores_df.to_csv(\"lecture_trait_scores.csv\", index=False)\n",
        "psych_df.to_csv(\"scored_personality_profiles.csv\", index=False)\n",
        "\n",
        "print(\"\\n✅ Exported: Trait importances, lecture scores, and personality profiles.\")"
      ],
      "metadata": {
        "colab": {
          "base_uri": "https://localhost:8080/"
        },
        "id": "9ofUmJ2TkXGj",
        "outputId": "44eb741d-16e4-458b-cee2-5c7274a4140c"
      },
      "execution_count": 40,
      "outputs": [
        {
          "output_type": "stream",
          "name": "stdout",
          "text": [
            "\n",
            "✅ Exported: Trait importances, lecture scores, and personality profiles.\n"
          ]
        }
      ]
    }
  ]
}